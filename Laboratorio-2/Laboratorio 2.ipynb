{
 "cells": [
  {
   "cell_type": "markdown",
   "id": "23c0be00-03de-4993-9631-a3b279731611",
   "metadata": {},
   "source": [
    "# Laboratorio 2 - Analisis de datos"
   ]
  },
  {
   "cell_type": "markdown",
   "id": "7e45491a-7753-4277-bfa6-8b05dd84c268",
   "metadata": {},
   "source": [
    "## Part 1 Numpy"
   ]
  },
  {
   "cell_type": "code",
   "execution_count": 3,
   "id": "f96ad472-8b8b-4d0a-aa30-d0b216010a1d",
   "metadata": {},
   "outputs": [],
   "source": [
    "import numpy as np\n",
    "import sys"
   ]
  },
  {
   "cell_type": "markdown",
   "id": "8c55b9f8-5b98-450d-8b67-c4a232a3d88f",
   "metadata": {},
   "source": [
    "1. ¿Cuál es el tamaño en bytes de un array de 1000  \r\n",
    "elementos de tipo booleano?"
   ]
  },
  {
   "cell_type": "code",
   "execution_count": 5,
   "id": "baed70a5-e48c-4f2c-9388-cfda4a7295a1",
   "metadata": {},
   "outputs": [
    {
     "name": "stdout",
     "output_type": "stream",
     "text": [
      "Size of array in bytes: 1112\n"
     ]
    }
   ],
   "source": [
    "bool_array = np.full(1000, True)\n",
    "size_bytes = sys.getsizeof(bool_array)\n",
    "print(f\"Size of array in bytes: {size_bytes}\")"
   ]
  },
  {
   "cell_type": "markdown",
   "id": "27926007-cdbc-4c8d-9bfb-209f731613bf",
   "metadata": {},
   "source": [
    "2.  Cree un array cuyos elementos sean los enteros pares en \n",
    "[1,100] y en orden decreciente. Muestre los 10 últimos \r\n",
    "por pantalla."
   ]
  },
  {
   "cell_type": "code",
   "execution_count": 7,
   "id": "e97811d2-1999-4f18-aaaa-4e9a6380cf18",
   "metadata": {},
   "outputs": [
    {
     "name": "stdout",
     "output_type": "stream",
     "text": [
      "[20 18 16 14 12 10  8  6  4  2]\n"
     ]
    }
   ],
   "source": [
    "enteros_array = np.arange(2, 101, 2)\n",
    "enteros_array = -np.sort(-enteros_array)\n",
    "print(enteros_array[-10:])"
   ]
  },
  {
   "cell_type": "markdown",
   "id": "b7c9358d-a7e0-4205-ae38-ce6f462456f8",
   "metadata": {},
   "source": [
    "3. Dado el array:\n",
    "| 2 | 4 | 5 | 6 |\r\n",
    "|---|---|---|---|\r\n",
    "| 0 | 3 | 7 | 4 |\r\n",
    "| 8 | 8 | 5 | 2 |\r\n",
    "| 1 | 5 | 1 | 6 |\n",
    "\n",
    "Seleccione con una instruccion el subarray de elementos.\n",
    "| 0 | 3 | 7 | 4 |\r\n",
    "|---|---|---|---|\n",
    " 1 |420    |"
   ]
  },
  {
   "cell_type": "code",
   "execution_count": 9,
   "id": "347148cf-7ad8-4781-bdba-f2445df6551b",
   "metadata": {},
   "outputs": [
    {
     "name": "stdout",
     "output_type": "stream",
     "text": [
      "[0 3 7 4]\n"
     ]
    }
   ],
   "source": [
    "array_matrix = np.array([[2, 4, 5, 6], [0, 3, 7, 4], [8, 8, 5, 2], [1, 5, 1, 6]])\n",
    "print(array_matrix[1, 0:4])"
   ]
  },
  {
   "cell_type": "markdown",
   "id": "fec014a1-cea4-461c-96fc-835a80e174b0",
   "metadata": {},
   "source": [
    "Despues, seleccione el subarray de elementos.\n",
    "| 2 | 5 |\r\n",
    "|---|---|\r\n",
    "| 8 | 5 |"
   ]
  },
  {
   "cell_type": "code",
   "execution_count": 11,
   "id": "65684555-6e1f-4be3-a321-def841ecfc03",
   "metadata": {},
   "outputs": [
    {
     "name": "stdout",
     "output_type": "stream",
     "text": [
      "[[2 5]\n",
      " [8 5]]\n"
     ]
    }
   ],
   "source": [
    "print(array_matrix[[0, 2], :][:, [0, 2]])"
   ]
  },
  {
   "cell_type": "markdown",
   "id": "19408101-292a-424e-a693-438deecc7f14",
   "metadata": {},
   "source": [
    "4. Dados los arrays a = [1, 4, 2, 7] y b = [1, 3, 2, 9], \n",
    "obtenga la media aritmética de la diferencia (a-b)."
   ]
  },
  {
   "cell_type": "code",
   "execution_count": 13,
   "id": "bcc60365-c31a-4f14-b2fe-a1e9def084e4",
   "metadata": {},
   "outputs": [
    {
     "name": "stdout",
     "output_type": "stream",
     "text": [
      "-0.25\n"
     ]
    }
   ],
   "source": [
    "array_a = np.array([1, 4, 2, 7])\n",
    "array_b = np.array([1, 3, 2, 9])\n",
    "array_c = array_a - array_b\n",
    "print(array_c.mean())"
   ]
  },
  {
   "cell_type": "markdown",
   "id": "6b5b1421-6fa7-451d-9a3e-c0247457f005",
   "metadata": {},
   "source": [
    "5. Tengo valores de cordenadas (x, y) en las columnas \r\n",
    "del arra.\n",
    " | 1.33 | 4.5  |\r\n",
    "|------|------|\r\n",
    "| 30.0 | 10.7 |\r\n",
    "| 70.2 | 0.5  |0.5 \r\n",
    " \r\n",
    "Agregue a este array las coordenadas (37.1, -3.6). \r\n",
    "Muestre en pantalla las dimensiones del nuevo \r\n",
    "array."
   ]
  },
  {
   "cell_type": "code",
   "execution_count": 15,
   "id": "33386db2-ceeb-4168-8c37-882c8b761df2",
   "metadata": {},
   "outputs": [
    {
     "name": "stdout",
     "output_type": "stream",
     "text": [
      "Dimensiones del nuevo array: (4, 2) \n",
      "\n",
      "[[ 1.33  4.5 ]\n",
      " [30.   10.7 ]\n",
      " [70.2   0.5 ]\n",
      " [37.1  -3.6 ]]\n"
     ]
    }
   ],
   "source": [
    "coordinates = np.array([[1.33, 4.5], [30.0, 10.7], [70.2, 0.5]])\n",
    "new_coordinates = np.array([37.1, -3.6])\n",
    "coordinates = np.vstack([coordinates, new_coordinates])\n",
    "\n",
    "print(f\"Dimensiones del nuevo array: {coordinates.shape} \\n\")\n",
    "print(coordinates)"
   ]
  },
  {
   "cell_type": "markdown",
   "id": "38ef6343-1649-48bd-9fa5-52a9a6303dba",
   "metadata": {},
   "source": [
    "6.  Copie el array del ejercicio anterior. Traspóngalo (. \r\n",
    "Agregue ahora dos nuevos pares de coordenadas: (10.8, \r\n",
    "3.0) y (35.8, 12.0)."
   ]
  },
  {
   "cell_type": "code",
   "execution_count": 17,
   "id": "2ebc1a37-fa52-42f9-9adc-a4f21459aef6",
   "metadata": {},
   "outputs": [
    {
     "name": "stdout",
     "output_type": "stream",
     "text": [
      "[[ 1.33 30.   70.2  37.1  10.8   3.  ]\n",
      " [ 4.5  10.7   0.5  -3.6  35.8  12.  ]]\n"
     ]
    }
   ],
   "source": [
    "coordinates_transposed = coordinates.transpose()\n",
    "coordinates_transposed = np.hstack([coordinates_transposed, [[10.8, 3.0], [35.8, 12.0]]])\n",
    "print(coordinates_transposed)"
   ]
  },
  {
   "cell_type": "markdown",
   "id": "a1aac6fa-bdc0-403b-b787-edd9886786b8",
   "metadata": {},
   "source": [
    "## Part 2 Exploracion y Mineria de Datos"
   ]
  },
  {
   "cell_type": "code",
   "execution_count": 19,
   "id": "96c072f4-5377-4c27-b2c0-684c89e4d4ee",
   "metadata": {},
   "outputs": [],
   "source": [
    "import pandas as pd\n",
    "import matplotlib.pyplot as plt\n",
    "import seaborn as sns\n",
    "import math\n",
    "dataset = pd.read_csv(\"NucleosPoblacion.csv\")"
   ]
  },
  {
   "cell_type": "code",
   "execution_count": 20,
   "id": "6f924ed8-2aac-4954-8956-75a59b74dd96",
   "metadata": {},
   "outputs": [
    {
     "data": {
      "text/plain": [
       "(852, 10)"
      ]
     },
     "execution_count": 20,
     "metadata": {},
     "output_type": "execute_result"
    }
   ],
   "source": [
    "dataset.shape"
   ]
  },
  {
   "cell_type": "code",
   "execution_count": 21,
   "id": "43e19180-63dd-4af0-9317-a9772cba70d0",
   "metadata": {},
   "outputs": [
    {
     "data": {
      "text/html": [
       "<div>\n",
       "<style scoped>\n",
       "    .dataframe tbody tr th:only-of-type {\n",
       "        vertical-align: middle;\n",
       "    }\n",
       "\n",
       "    .dataframe tbody tr th {\n",
       "        vertical-align: top;\n",
       "    }\n",
       "\n",
       "    .dataframe thead th {\n",
       "        text-align: right;\n",
       "    }\n",
       "</style>\n",
       "<table border=\"1\" class=\"dataframe\">\n",
       "  <thead>\n",
       "    <tr style=\"text-align: right;\">\n",
       "      <th></th>\n",
       "      <th>FID</th>\n",
       "      <th>OBJECTID</th>\n",
       "      <th>Texto</th>\n",
       "      <th>Poblacion</th>\n",
       "      <th>CodMun</th>\n",
       "      <th>Municipio</th>\n",
       "      <th>CodProvin</th>\n",
       "      <th>Provincia</th>\n",
       "      <th>X</th>\n",
       "      <th>Y</th>\n",
       "    </tr>\n",
       "  </thead>\n",
       "  <tbody>\n",
       "    <tr>\n",
       "      <th>0</th>\n",
       "      <td>0</td>\n",
       "      <td>1</td>\n",
       "      <td>Agüimes</td>\n",
       "      <td>29431.0</td>\n",
       "      <td>35002</td>\n",
       "      <td>Agüimes</td>\n",
       "      <td>35</td>\n",
       "      <td>Las Palmas</td>\n",
       "      <td>-15.446012</td>\n",
       "      <td>27.900542</td>\n",
       "    </tr>\n",
       "    <tr>\n",
       "      <th>1</th>\n",
       "      <td>1</td>\n",
       "      <td>2</td>\n",
       "      <td>Antigua</td>\n",
       "      <td>10458.0</td>\n",
       "      <td>35003</td>\n",
       "      <td>Antigua</td>\n",
       "      <td>35</td>\n",
       "      <td>Las Palmas</td>\n",
       "      <td>-14.013301</td>\n",
       "      <td>28.418966</td>\n",
       "    </tr>\n",
       "    <tr>\n",
       "      <th>2</th>\n",
       "      <td>2</td>\n",
       "      <td>3</td>\n",
       "      <td>Arrecife</td>\n",
       "      <td>58156.0</td>\n",
       "      <td>35004</td>\n",
       "      <td>Arrecife</td>\n",
       "      <td>35</td>\n",
       "      <td>Las Palmas</td>\n",
       "      <td>-13.551451</td>\n",
       "      <td>28.960649</td>\n",
       "    </tr>\n",
       "    <tr>\n",
       "      <th>3</th>\n",
       "      <td>3</td>\n",
       "      <td>4</td>\n",
       "      <td>Arucas</td>\n",
       "      <td>36745.0</td>\n",
       "      <td>35006</td>\n",
       "      <td>Arucas</td>\n",
       "      <td>35</td>\n",
       "      <td>Las Palmas</td>\n",
       "      <td>-15.521512</td>\n",
       "      <td>28.117496</td>\n",
       "    </tr>\n",
       "    <tr>\n",
       "      <th>4</th>\n",
       "      <td>4</td>\n",
       "      <td>5</td>\n",
       "      <td>Gáldar</td>\n",
       "      <td>24473.0</td>\n",
       "      <td>35009</td>\n",
       "      <td>Gáldar</td>\n",
       "      <td>35</td>\n",
       "      <td>Las Palmas</td>\n",
       "      <td>-15.654111</td>\n",
       "      <td>28.143873</td>\n",
       "    </tr>\n",
       "  </tbody>\n",
       "</table>\n",
       "</div>"
      ],
      "text/plain": [
       "   FID  OBJECTID     Texto  Poblacion  CodMun Municipio  CodProvin  \\\n",
       "0    0         1   Agüimes    29431.0   35002   Agüimes         35   \n",
       "1    1         2   Antigua    10458.0   35003   Antigua         35   \n",
       "2    2         3  Arrecife    58156.0   35004  Arrecife         35   \n",
       "3    3         4    Arucas    36745.0   35006    Arucas         35   \n",
       "4    4         5    Gáldar    24473.0   35009    Gáldar         35   \n",
       "\n",
       "    Provincia          X          Y  \n",
       "0  Las Palmas -15.446012  27.900542  \n",
       "1  Las Palmas -14.013301  28.418966  \n",
       "2  Las Palmas -13.551451  28.960649  \n",
       "3  Las Palmas -15.521512  28.117496  \n",
       "4  Las Palmas -15.654111  28.143873  "
      ]
     },
     "execution_count": 21,
     "metadata": {},
     "output_type": "execute_result"
    }
   ],
   "source": [
    "dataset.head()"
   ]
  },
  {
   "cell_type": "markdown",
   "id": "41ec55d5-722b-4d97-bcef-dfda6066e7cc",
   "metadata": {},
   "source": [
    "1. ¿Cuántos Municipios tienen mas de 100000 \n",
    "habitantes?"
   ]
  },
  {
   "cell_type": "code",
   "execution_count": 23,
   "id": "26b61794-d68a-4335-9bfe-6d8cdbd9f881",
   "metadata": {},
   "outputs": [
    {
     "name": "stdout",
     "output_type": "stream",
     "text": [
      "Candidad de municipios con mas de 100,000 habitantes: 62\n"
     ]
    }
   ],
   "source": [
    "poblacion = np.sum(dataset[\"Poblacion\"] > 100000)\n",
    "print(f\"Candidad de municipios con mas de 100,000 habitantes: {poblacion}\")"
   ]
  },
  {
   "cell_type": "markdown",
   "id": "693f2bd6-db9d-4825-8182-72556dd24369",
   "metadata": {},
   "source": [
    "2. Realice una gráfica de barras sobre la población de cada \n",
    "ciudad, ordenela de menor a mayro"
   ]
  },
  {
   "cell_type": "code",
   "execution_count": 25,
   "id": "485bed11-242a-4842-b5a2-e8de20f92c0a",
   "metadata": {},
   "outputs": [],
   "source": [
    "sorted_dataset = dataset.sort_values(by=\"Poblacion\")\n",
    "# Dataframe reduced for graph legibility\n",
    "reduced_dataset = sorted_dataset.nlargest(20, \"Poblacion\")\n",
    "reduced_dataset = reduced_dataset.sort_values(by=\"Poblacion\")"
   ]
  },
  {
   "cell_type": "code",
   "execution_count": 26,
   "id": "d11b5d8a-df3f-42fc-ab32-9680b784458e",
   "metadata": {},
   "outputs": [
    {
     "data": {
      "image/png": "[encoded data removed]",
      "text/plain": [
       "<Figure size 1500x800 with 1 Axes>"
      ]
     },
     "metadata": {},
     "output_type": "display_data"
    }
   ],
   "source": [
    "plt.figure(figsize=(15, 8))\n",
    "plt.bar(reduced_dataset[\"Texto\"], reduced_dataset[\"Poblacion\"])\n",
    "plt.xticks(rotation=90)\n",
    "plt.xlabel(\"Ciudad\")\n",
    "plt.ylabel(\"Población\")\n",
    "plt.title(f\"Población de cada ciudad ordenada de menor a mayor (Top {len(reduced_dataset.index)})\")\n",
    "plt.show()"
   ]
  },
  {
   "cell_type": "markdown",
   "id": "355fa26b-317f-40dc-ba79-e4f62aba1c44",
   "metadata": {},
   "source": [
    "a. ¿Cual es la segunda ciudad mas poblada? \n",
    "**Barcelona**\n",
    "\n",
    "b. Que posicion ocupa Granada en el ranking de las ciudades mas pobladas? **18**?"
   ]
  },
  {
   "cell_type": "markdown",
   "id": "7c9ca9f4-7c06-4a2f-bd9f-b18b527dee8d",
   "metadata": {},
   "source": [
    "3. Cuantos municipios de la provincia de Tarragona tienen \n",
    "aás de 32,000 habitantes?"
   ]
  },
  {
   "cell_type": "code",
   "execution_count": 29,
   "id": "27633aa1-34dd-45d5-97fc-bd1b6bf80e13",
   "metadata": {},
   "outputs": [
    {
     "name": "stdout",
     "output_type": "stream",
     "text": [
      "Candidad de municipios con mas de 32,000 habitantes en Tarragona: 238\n"
     ]
    }
   ],
   "source": [
    "tarragona = dataset.loc[dataset[\"Provincia\"] == \"Tarragona\"]\n",
    "tarragona = np.sum(dataset[\"Poblacion\"] > 32000)\n",
    "print(f\"Candidad de municipios con mas de 32,000 habitantes en Tarragona: {tarragona}\")"
   ]
  },
  {
   "cell_type": "markdown",
   "id": "de8296bf-ee0b-4f17-a3ed-f14a48aed31c",
   "metadata": {},
   "source": [
    "4. Cual es el municipio situado mas al norte?"
   ]
  },
  {
   "cell_type": "code",
   "execution_count": 31,
   "id": "36e0dc57-85c7-440d-8145-691275a588ac",
   "metadata": {},
   "outputs": [
    {
     "name": "stdout",
     "output_type": "stream",
     "text": [
      "Municipio: Viveiro\n",
      "Provincia: Lugo\n",
      "Poblacion: 16211.0\n"
     ]
    }
   ],
   "source": [
    "northest = dataset.nlargest(1, columns=['Y'])\n",
    "print(f\"Municipio: {northest['Municipio'].iloc[0]}\")\n",
    "print(f\"Provincia: {northest['Provincia'].iloc[0]}\")\n",
    "print(f\"Poblacion: {northest['Poblacion'].iloc[0]}\")"
   ]
  },
  {
   "cell_type": "markdown",
   "id": "ba3cb5ce-290f-41d6-af73-27f068a0bccd",
   "metadata": {},
   "source": [
    "5. Obtenga la media, mediana, desviacion estandar, valor \n",
    "aáximo y valor iínimo de la poblacoón de los municipios\r\n",
    "de la provincia de Granada."
   ]
  },
  {
   "cell_type": "code",
   "execution_count": 33,
   "id": "c4d82e7f-cd35-493f-b01e-94c29ef6671c",
   "metadata": {},
   "outputs": [
    {
     "name": "stdout",
     "output_type": "stream",
     "text": [
      "Media: 30217.85\n",
      "Mediana: 17526.0\n",
      "Desviacin estandar: 50355.49171459277\n",
      "Maximo: 239154.0\n",
      "Minimo: 10386.0\n"
     ]
    }
   ],
   "source": [
    "granada = dataset.loc[dataset[\"Provincia\"] == \"Granada\"]\n",
    "\n",
    "mean = granada[\"Poblacion\"].mean()\n",
    "median = granada[\"Poblacion\"].median()\n",
    "standar_deviation = granada[\"Poblacion\"].std()\n",
    "max = granada[\"Poblacion\"].max()\n",
    "min = granada[\"Poblacion\"].min()\n",
    "\n",
    "print(f\"Media: {mean}\")\n",
    "print(f\"Mediana: {median}\")\n",
    "print(f\"Desviacin estandar: {standar_deviation}\")\n",
    "print(f\"Maximo: {max}\")\n",
    "print(f\"Minimo: {min}\")"
   ]
  },
  {
   "cell_type": "markdown",
   "id": "1d411929-a3b2-43fe-a8c0-ea5b5185bc68",
   "metadata": {},
   "source": [
    "6.  Realice un histograma con la poblacion de los \n",
    "Municipios para cada una de las provincias."
   ]
  },
  {
   "cell_type": "code",
   "execution_count": null,
   "id": "c938398a-e3d4-4b77-8e4f-eef34b1bf82b",
   "metadata": {},
   "outputs": [],
   "source": [
    "provincias = dataset[\"Provincia\"].unique()\n",
    "num_provincias = len(provincias)\n",
    "\n",
    "plt.figure(figsize=(15, 66))\n",
    "\n",
    "cols = 4\n",
    "rows = math.ceil(num_provincias / cols)\n",
    "\n",
    "for i, provincia in enumerate(provincias, 1):\n",
    "    plt.subplot(rows, cols, i)\n",
    "    data = dataset[dataset[\"Provincia\"] == provincia]\n",
    "    plt.hist(data[\"Poblacion\"], color='teal', density=True, bins=30, edgecolor=\"black\")\n",
    "    plt.title(provincia)\n",
    "    plt.xlabel(\"Población\")\n",
    "\n",
    "plt.show()"
   ]
  },
  {
   "cell_type": "markdown",
   "id": "09eae0ee-e8c0-4c22-8400-2a861de79311",
   "metadata": {},
   "source": [
    "7. Seleccione al azar cincuenta municipios diferentes de \n",
    "entre los diponibles en el archivo. Aseuúrese de que no\r\n",
    "se repitan ¿Luego calcule el promedio de la poblaoión  \r\n",
    "la desvioción astándar de esto 50 municipis?."
   ]
  },
  {
   "cell_type": "code",
   "execution_count": 143,
   "id": "10a82fde-936f-44bf-810e-f33e1ccbb096",
   "metadata": {},
   "outputs": [
    {
     "name": "stdout",
     "output_type": "stream",
     "text": [
      "Promedio: 37914.03636363636.\n",
      "Desviacion estandar: 53213.47284286803.\n"
     ]
    }
   ],
   "source": [
    "municipios = dataset[\"Municipio\"].unique()\n",
    "municipios = np.random.choice(municipios, size=50, replace=False)\n",
    "municipios = dataset[dataset[\"Municipio\"].isin(municipios)]\n",
    "\n",
    "promedio = municipios[\"Poblacion\"].mean()\n",
    "std = municipios[\"Poblacion\"].std()\n",
    "\n",
    "print(f\"Promedio: {promedio}.\")\n",
    "print(f\"Desviacion estandar: {std}.\")"
   ]
  },
  {
   "cell_type": "markdown",
   "id": "cd02dc0b-7a0c-4047-8e4d-df13ad8c2fd3",
   "metadata": {},
   "source": [
    "8. Muestre los nombres de los Municipios mas cercano y mas \n",
    "lejano a Madrid."
   ]
  },
  {
   "cell_type": "code",
   "execution_count": 183,
   "id": "899b99b2-725b-463a-8a3d-79e935f6fb2b",
   "metadata": {},
   "outputs": [
    {
     "name": "stdout",
     "output_type": "stream",
     "text": [
      "El municipo mas cercano a Madrid es: Maó\n",
      "El municipo mas lejano a Madrid es: Carballo\n"
     ]
    }
   ],
   "source": [
    "dataset_minus_madrid = dataset[dataset[\"Municipio\"] != \"Madrid\"].copy()\n",
    "coord_x_madrid = 40.4167\n",
    "coord_y_madrid = -3.7033\n",
    "\n",
    "dataset_minus_madrid[\"Distancia_a_Madrid\"] = np.sqrt((dataset_minus_madrid[\"X\"] - coord_x_madrid)**2 + (dataset_minus_madrid[\"Y\"] - coord_y_madrid)**2)\n",
    "\n",
    "municipio_cercano = dataset_minus_madrid.loc[dataset_minus_madrid[\"Distancia_a_Madrid\"].idxmin()]\n",
    "municipio_lejano = dataset_minus_madrid.loc[dataset_minus_madrid[\"Distancia_a_Madrid\"].idxmax()]\n",
    "\n",
    "print(f\"El municipo mas cercano a Madrid es: {municipio_cercano[\"Municipio\"]}\")\n",
    "print(f\"El municipo mas lejano a Madrid es: {municipio_lejano[\"Municipio\"]}\")"
   ]
  },
  {
   "cell_type": "markdown",
   "id": "650b008a-2304-4824-8180-b68c654f784c",
   "metadata": {},
   "source": [
    "9. Muestre un scatter plot con los puntos del plano \n",
    "carteciano de las coordenadas X,Y de los municipios de\r\n",
    "Madrid y de Barcelona en el mismo plano."
   ]
  },
  {
   "cell_type": "code",
   "execution_count": 204,
   "id": "bf737f2f-00fc-42a9-988f-c3f4fae1acde",
   "metadata": {},
   "outputs": [
    {
     "data": {
      "image/png": "[encoded data removed]",
      "text/plain": [
       "<Figure size 400x300 with 1 Axes>"
      ]
     },
     "metadata": {},
     "output_type": "display_data"
    }
   ],
   "source": [
    "municipio_madrid = dataset.loc[dataset[\"Provincia\"] == \"Madrid\"]\n",
    "municipio_barcelona = dataset.loc[dataset[\"Provincia\"] == \"Barcelona\"]\n",
    "madrid_barcelona = pd.concat([municipio_barcelona, municipio_madrid], ignore_index=True)\n",
    "\n",
    "plt.figure(figsize=(4,3))\n",
    "sns.scatterplot(x=\"X\", y=\"Y\", data=madrid_barcelona, hue=\"Provincia\", style=\"Provincia\", palette={\"Madrid\": \"blue\", \"Barcelona\": \"red\"}, s=100)\n",
    "plt.xlabel(\"Coordenada X\")\n",
    "plt.ylabel(\"Coordenada Y\")\n",
    "plt.title(\"Coordenadas de los municipios de Barcelona & Madrid\")\n",
    "plt.legend(title =\"Provincia\")\n",
    "plt.grid(True)\n",
    "plt.show()"
   ]
  },
  {
   "cell_type": "code",
   "execution_count": null,
   "id": "797fd590-ee94-4830-876e-1c73fb1cb73e",
   "metadata": {},
   "outputs": [],
   "source": []
  }
 ],
 "metadata": {
  "kernelspec": {
   "display_name": "Python 3 (ipykernel)",
   "language": "python",
   "name": "python3"
  },
  "language_info": {
   "codemirror_mode": {
    "name": "ipython",
    "version": 3
   },
   "file_extension": ".py",
   "mimetype": "text/x-python",
   "name": "python",
   "nbconvert_exporter": "python",
   "pygments_lexer": "ipython3",
   "version": "3.12.4"
  }
 },
 "nbformat": 4,
 "nbformat_minor": 5
}
