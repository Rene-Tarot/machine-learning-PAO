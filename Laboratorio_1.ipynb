{
 "cells": [
  {
   "cell_type": "markdown",
   "id": "abd50b15-1cc2-443a-88a7-c588608247cb",
   "metadata": {},
   "source": [
    "# Laboratorio #1 - Sintaxis y Estructuras de Datos"
   ]
  },
  {
   "cell_type": "markdown",
   "id": "bdb8dd1b-ce9a-4574-8d08-b931c1f1ada0",
   "metadata": {},
   "source": [
    "## 1. Haga un programa en Python que reciba de parametro un numero de segundos y que despliegue en pantalla, las horas, minutos y segundos que representan."
   ]
  },
  {
   "cell_type": "markdown",
   "id": "3c01b7b5-f938-4da3-be42-e2581983c63d",
   "metadata": {},
   "source": [
    "import math\n",
    "\n",
    "time = int(input(\"Ingrese la cantidad de segundos: \"))\n",
    "horas = math.floor(time / 3600)\n",
    "minutos = (time % 3600) // 60\n",
    "segundos = time % 60\n",
    "\n",
    "print(f\"Horas: {horas}, Minutos: {minutos}, Segundos: {segundos}\")"
   ]
  },
  {
   "cell_type": "markdown",
   "id": "88e27993-074b-4633-8a8c-77796aa475cd",
   "metadata": {},
   "source": [
    "## 2. Haga un programa en Python que la fecha de nacimiento de una persona (puede ingresar por separado cada valor, es decir pedir primero dıa, luego mes y luego ano), despliegue la edad de la persona en anos, meses y dıas. Su resultado puede ser aproximado."
   ]
  },
  {
   "cell_type": "code",
   "execution_count": 32,
   "id": "21d12b89-5be6-4c06-a1fc-f2572f999e4a",
   "metadata": {},
   "outputs": [
    {
     "name": "stdin",
     "output_type": "stream",
     "text": [
      "Ingrese el dia de nacimiento:  9\n",
      "Ingrese el mes de nacimiento:  9\n",
      "Ingrese el ano de nacimiento:  1997\n"
     ]
    },
    {
     "name": "stdout",
     "output_type": "stream",
     "text": [
      "Tienes aproximadamente: 27.172602739726027 anos, 826.5 meses y 9918 dias.\n"
     ]
    }
   ],
   "source": [
    "from datetime import datetime\n",
    "\n",
    "fecha = datetime.now()\n",
    "\n",
    "dia = int(input(\"Ingrese el dia de nacimiento: \"))\n",
    "mes = int(input(\"Ingrese el mes de nacimiento: \"))\n",
    "ano = int(input(\"Ingrese el ano de nacimiento: \"))\n",
    "\n",
    "fecha_nacimiento = datetime(ano, mes, dia)\n",
    "diferencia = (fecha - fecha_nacimiento).days\n",
    "\n",
    "anos = diferencia / 365\n",
    "meses = diferencia / 12\n",
    "dias = diferencia\n",
    "\n",
    "print(f\"Tienes aproximadamente: {anos} anos, {meses} meses y {dias} dias.\")"
   ]
  },
  {
   "cell_type": "markdown",
   "id": "cb4b809a-211b-4410-96dd-87bc171d8158",
   "metadata": {},
   "source": [
    "## 3. Escriba una funcion en Python que dada una tupla de elementos (numeros o letras) esta se \n",
    "convierta a un string."
   ]
  },
  {
   "cell_type": "code",
   "execution_count": 120,
   "id": "fa3b3858-0725-4d9f-a34a-7a5b240aed50",
   "metadata": {},
   "outputs": [
    {
     "data": {
      "text/plain": [
       "'1020hello570'"
      ]
     },
     "execution_count": 120,
     "metadata": {},
     "output_type": "execute_result"
    }
   ],
   "source": [
    "def concatTuple(tupla):\n",
    "    res = \"\".join(map(str, tupla))\n",
    "    return res\n",
    "\n",
    "tuple = (10, 20, \"hello\", 5, 70)\n",
    "concatTuple(tuple)"
   ]
  },
  {
   "cell_type": "markdown",
   "id": "04291e90-4e61-4a5c-b529-680ab6bef6c4",
   "metadata": {},
   "source": [
    "## 4. Cree un programa en Python que dada una lista de tuplas, elimine las tuplas que est´an vac´ıas."
   ]
  },
  {
   "cell_type": "code",
   "execution_count": 129,
   "id": "272c2f7d-74ac-4908-bf55-8f6b3bda7f4c",
   "metadata": {},
   "outputs": [
    {
     "data": {
      "text/plain": [
       "['X', ('a', 'b'), ('a', 'b', 'c'), 'd']"
      ]
     },
     "execution_count": 129,
     "metadata": {},
     "output_type": "execute_result"
    }
   ],
   "source": [
    "tupla = [(), (), ('X'), ('a', 'b'), ('a', 'b', 'c'), ('d')]\n",
    "\n",
    "res = [i for i in tupla if i]\n",
    "res"
   ]
  },
  {
   "cell_type": "markdown",
   "id": "e4cccb2a-793b-437d-a6ca-ea9e9a97938c",
   "metadata": {},
   "source": [
    "## 5. Cree una funcion en Python que dada una lista de tuplas con numeros enteros, produzca una \n",
    "tupla con el promedio de cada tupla individual, debe usar comprehensions para desarrolla \r\n",
    "este ejercicio."
   ]
  },
  {
   "cell_type": "code",
   "execution_count": 180,
   "id": "4d052035-614c-478b-a1ec-74f79328d91a",
   "metadata": {},
   "outputs": [
    {
     "name": "stdout",
     "output_type": "stream",
     "text": [
      "[10.5, 44, 58]\n"
     ]
    }
   ],
   "source": [
    "from statistics import mean\n",
    "\n",
    "def promedio(tupla):\n",
    "    res = list(mean(i) for i in tupla)\n",
    "    return res\n",
    "\n",
    "tuple = [(10, 10, 10, 12), (30, 45, 56, 45), (81, 80, 39, 32)]\n",
    "prom = promedio(tuple)\n",
    "print(prom)"
   ]
  },
  {
   "cell_type": "markdown",
   "id": "d0d8ef7f-b522-4faf-a04f-9f59c3f0f1a1",
   "metadata": {},
   "source": [
    "## 6. Escribir un programa que gestione las facturas pendientes de cobro de una empresa."
   ]
  },
  {
   "cell_type": "code",
   "execution_count": null,
   "id": "4f05955f-33e2-4eb5-938b-36b5c29bcf63",
   "metadata": {},
   "outputs": [],
   "source": [
    "facturas = {\n",
    "    \"0000\":0.00\n",
    "}\n",
    "\n",
    "cobrada = 0.00\n",
    "pagar = 0.00\n",
    "\n",
    "# add factura\n",
    "def addFactura(numero, valor):\n",
    "    global pagar\n",
    "    pagar += valor\n",
    "    facturas[numero] = valor\n",
    "    print(facturas)\n",
    "    print(\"\")\n",
    "    print(f\"Cantidad Cobrada: {cobrada}, Cantidad por Pagadar: {pagar}\")\n",
    "    print(\"\")\n",
    "\n",
    "# cobrar factura\n",
    "def pagarFactura(numero):\n",
    "    global cobrada, pagar\n",
    "    cantidad = facturas[numero]\n",
    "    cobrada += cantidad\n",
    "    pagar -= cantidad\n",
    "    facturas.pop(numero)\n",
    "    print(facturas)\n",
    "    print(\"\")\n",
    "    print(f\"Cantidad Cobrada: {cobrada}, Cantidad por Pagadar: {pagar}\")\n",
    "\n",
    "# terminar factura\n",
    "def cancelarFactura(numero):\n",
    "    global cobrada, pagar\n",
    "    cantidad = facturas[numero]\n",
    "    pagar -= cantidad\n",
    "    facturas.pop(numero)\n",
    "    print(facturas)\n",
    "    print(\"\")\n",
    "    print(f\"Cantidad Cobrada: {cobrada}, Cantidad por Pagadar: {pagar}\")\n",
    "\n",
    "while(True):\n",
    "    print(\"Opciones: \")\n",
    "    print(\"\")\n",
    "    print(\"(1) Ingresar factura.\")\n",
    "    print(\"(2) Pagar factura.\")\n",
    "    print(\"(3) Eliminar factura.\")\n",
    "    print(\"(4) Salir.\")\n",
    "    print(\"\")\n",
    "    \n",
    "    option = input(\"Ingrese la opcion: \")\n",
    "\n",
    "    if option == \"1\":\n",
    "        numero, valor = (\n",
    "            input(\"Numero de la factura: \"),\n",
    "            float(input(\"Costo de la factura: \"))\n",
    "        )\n",
    "        print(\"\")\n",
    "        addFactura(numero, valor)\n",
    "    elif option == \"2\":\n",
    "        numero = input(\"Numero de la factura: \")\n",
    "        print(\"\")\n",
    "        pagarFactura(numero)\n",
    "    elif option == \"3\":\n",
    "        numero = input(\"Numero de la factura a eliminar: \")\n",
    "    elif option == \"4\":\n",
    "        print(\"Saliendo...\")\n",
    "        break\n",
    "    else:\n",
    "        print(\"Opcion invalida!\")\n",
    "        \n",
    "    "
   ]
  },
  {
   "cell_type": "markdown",
   "id": "c6cfa262-30fa-4604-a0a0-a57a32c306ee",
   "metadata": {},
   "source": [
    "## 7. Haga una funcion en Python, que cree un set con todas las cartas de una baraja de Pocker."
   ]
  },
  {
   "cell_type": "code",
   "execution_count": 330,
   "id": "276294ba-03f6-4143-a47d-a50534761a5a",
   "metadata": {},
   "outputs": [],
   "source": [
    "import random\n",
    "\n",
    "# Funciones\n",
    "def create_deck():\n",
    "    tipos = ['T', 'C', 'P', 'E']\n",
    "    numeros = [f\"{i:02d}\" for i in range(1, 14)]\n",
    "\n",
    "    deck = {f\"{tipo}{numero}\" for tipo in tipos for numero in numeros}\n",
    "    return deck\n",
    "\n",
    "def create_sets(deck):\n",
    "    to_sort = list(deck)\n",
    "    \n",
    "    size_1 = random.randint(1, 51)\n",
    "    size_2 = random.randint(1, 51)\n",
    "\n",
    "    deck_1 = set(random.sample(to_sort, k=size_1))\n",
    "    deck_2 = set(random.sample(to_sort, k=size_2))\n",
    "\n",
    "    return deck_1, deck_2\n",
    "\n",
    "full_deck = create_deck()\n",
    "set_1, set_2 = create_sets(full_deck)"
   ]
  },
  {
   "cell_type": "markdown",
   "id": "594e8508-cd03-4342-ad63-5ddb8a87d53a",
   "metadata": {},
   "source": [
    "## 7.1 Calcular la probabilidad de la interseccion."
   ]
  },
  {
   "cell_type": "code",
   "execution_count": 332,
   "id": "0c6b8cd8-eb62-4ea0-8537-29bb48749652",
   "metadata": {},
   "outputs": [
    {
     "name": "stdout",
     "output_type": "stream",
     "text": [
      "Probabilidad de la interseccion: 3.7%\n"
     ]
    }
   ],
   "source": [
    "interseccion = set_1 & set_2\n",
    "prob_interseccion = len(interseccion) / len(set_1.union(set_2))\n",
    "print(f\"Probabilidad de la interseccion: {round(prob_interseccion*100, 2)}%\")"
   ]
  },
  {
   "cell_type": "markdown",
   "id": "07f73a62-5b77-4a98-a74f-2175c56e7a81",
   "metadata": {},
   "source": [
    "### 7.1.1 Demuestre si son eventos independientes con la regla del producto."
   ]
  },
  {
   "cell_type": "code",
   "execution_count": 334,
   "id": "7afc049d-7c78-4194-a1c5-4fc18842e6f5",
   "metadata": {},
   "outputs": [
    {
     "name": "stdout",
     "output_type": "stream",
     "text": [
      "No son independientes\n"
     ]
    }
   ],
   "source": [
    "prob_1 = len(set_1)/len(set_1.union(set_2))\n",
    "prob_2 = len(set_2)/len(set_1.union(set_2))\n",
    "\n",
    "if prob_interseccion == prob_1*prob_2:\n",
    "    print(\"Son independientes\")\n",
    "else:\n",
    "    print(\"No son independientes\")"
   ]
  },
  {
   "cell_type": "markdown",
   "id": "d29de924-626e-4837-919e-79c9982a19ab",
   "metadata": {},
   "source": [
    "## 7.2 Calcular probabilidad de la union."
   ]
  },
  {
   "cell_type": "code",
   "execution_count": 336,
   "id": "4465ef05-bb7a-439b-94ec-c7b797b02f09",
   "metadata": {},
   "outputs": [
    {
     "name": "stdout",
     "output_type": "stream",
     "text": [
      "Probabilidad de la union: 100.0%\n"
     ]
    }
   ],
   "source": [
    "union = set_1 | set_2\n",
    "prob_union = len(union) / len(set_1.union(set_2))\n",
    "print(f\"Probabilidad de la union: {round(prob_union*100, 2)}%\")"
   ]
  },
  {
   "cell_type": "markdown",
   "id": "176f2ae6-0bf2-4a2a-a4c4-a2bc7ea2daaf",
   "metadata": {},
   "source": [
    "### 7.2.1 Demostrar si son eventos independientes con la regla del producto."
   ]
  },
  {
   "cell_type": "code",
   "execution_count": 338,
   "id": "5cfd26b0-5574-4873-a581-7ec28f22f054",
   "metadata": {},
   "outputs": [
    {
     "name": "stdout",
     "output_type": "stream",
     "text": [
      "Se cumple la regla de adiccion\n"
     ]
    }
   ],
   "source": [
    "if prob_union == (prob_1+prob_2-prob_interseccion):\n",
    "    print(\"Se cumple la regla de adiccion\")\n",
    "else:\n",
    "    print(\"No se cumple la regla de adiccion\")"
   ]
  },
  {
   "cell_type": "code",
   "execution_count": null,
   "id": "03545827-3c47-436c-ae89-0be386eda92a",
   "metadata": {},
   "outputs": [],
   "source": []
  }
 ],
 "metadata": {
  "kernelspec": {
   "display_name": "Python 3 (ipykernel)",
   "language": "python",
   "name": "python3"
  },
  "language_info": {
   "codemirror_mode": {
    "name": "ipython",
    "version": 3
   },
   "file_extension": ".py",
   "mimetype": "text/x-python",
   "name": "python",
   "nbconvert_exporter": "python",
   "pygments_lexer": "ipython3",
   "version": "3.12.4"
  }
 },
 "nbformat": 4,
 "nbformat_minor": 5
}
